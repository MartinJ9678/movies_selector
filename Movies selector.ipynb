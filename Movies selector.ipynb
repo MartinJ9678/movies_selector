{
 "cells": [
  {
   "cell_type": "code",
   "execution_count": 20,
   "id": "b2e4a3bf",
   "metadata": {
    "ExecuteTime": {
     "end_time": "2021-09-10T14:32:43.785269Z",
     "start_time": "2021-09-10T14:32:43.766856Z"
    }
   },
   "outputs": [],
   "source": [
    "from selenium import webdriver\n",
    "import chromedriver_binary\n",
    "from selenium.webdriver.common.by import By\n",
    "from selenium.webdriver.support.ui import WebDriverWait\n",
    "from selenium.webdriver.support import expected_conditions as ec\n",
    "from bs4 import BeautifulSoup\n",
    "import csv\n",
    "from selenium.webdriver.chrome.options import Options\n",
    "from selenium.webdriver.common.keys import Keys\n",
    "\n",
    "from selenium import webdriver\n",
    "from webdriver_manager.chrome import ChromeDriverManager\n"
   ]
  },
  {
   "cell_type": "code",
   "execution_count": 143,
   "id": "6af68cfc",
   "metadata": {
    "ExecuteTime": {
     "end_time": "2021-09-10T16:50:31.341897Z",
     "start_time": "2021-09-10T16:50:14.975351Z"
    }
   },
   "outputs": [
    {
     "name": "stderr",
     "output_type": "stream",
     "text": [
      "\n",
      "\n",
      "====== WebDriver manager ======\n",
      "Current google-chrome version is 93.0.4577\n",
      "Get LATEST driver version for 93.0.4577\n",
      "Driver [/Users/jauffret/.wdm/drivers/chromedriver/mac64/93.0.4577.63/chromedriver] found in cache\n"
     ]
    },
    {
     "name": "stdout",
     "output_type": "stream",
     "text": [
      "['Philippe Durant', 'Gilles Durieux', 'Cats &amp; Sieja', 'Alex Gopher', 'The Limiñanas', 'Marius Müller‐Westernhagen', 'Belmondo', 'Yusef Lateef', 'Régis Mardon', 'Jean-Paul Belmondo', 'Milton Nascimento', 'Belmondo', 'Bruno Sevaistre', 'Robert Hossein', 'Bertrand Tessier', 'Belmondo']\n"
     ]
    }
   ],
   "source": [
    "driver = webdriver.Chrome(ChromeDriverManager().install())\n",
    "driver.get(\"https://www.senscritique.com/films\")\n",
    "wait = WebDriverWait(driver, 15)\n",
    "wait.until(ec.visibility_of_element_located((By.XPATH, \"//div[@class='qc-cmp2-summary-buttons']\")))\n",
    "driver.find_element_by_class_name('css-k8o10q').click()\n",
    "search_input = driver.find_element_by_class_name('_25jdusMm9PFEdy9TPVD0IK')\n",
    "search_input.send_keys('belmondo' + Keys.ENTER)\n",
    "wait.until(ec.visibility_of_element_located((By.XPATH, \"//div[@class='sk-hits Search__HitsStyled-jke3lb-0 bqASVo']\")))\n",
    "titre_films = []\n",
    "cards = driver.find_elements_by_xpath(\"//div[@class='ProductListItem__ProductInfos-sc-1ci68b-3 fnWRaj']\")\n",
    "list_authors = [_.get_attribute(\"innerHTML\").split('>')[7][:-6] if _.get_attribute(\"innerHTML\").split('>')[6][-5:]=='qQQU\"' else 'unknown' for _ in cards]\n",
    "print(list_authors)\n",
    "#for card in cards:\n",
    "#    print(card.find_element_by_css_selector(\"div.ProductListItem__TextContainer-sc-1ci68b-8 kKuZab\").get_attribute(\"innerHTML\"))\n",
    "#    print(card.find_element_by_xpath(\"//span[@class='ProductListItem__NewSearchLink-sc-1ci68b-11 jjqQQU']\").get_attribute('innerHTML'))"
   ]
  },
  {
   "cell_type": "code",
   "execution_count": 142,
   "id": "a3889f04",
   "metadata": {
    "ExecuteTime": {
     "end_time": "2021-09-10T16:48:55.187885Z",
     "start_time": "2021-09-10T16:48:55.176962Z"
    }
   },
   "outputs": [
    {
     "data": {
      "text/plain": [
       "[<selenium.webdriver.remote.webelement.WebElement (session=\"7cb402d7fbbc47fb7f9f9bfdb95d722a\", element=\"2c3b0ca9-f9b8-4151-91d9-cb2bb419246a\")>,\n",
       " <selenium.webdriver.remote.webelement.WebElement (session=\"7cb402d7fbbc47fb7f9f9bfdb95d722a\", element=\"b4f5bc2f-ef43-4da4-9f3f-3f06e83fb46d\")>,\n",
       " <selenium.webdriver.remote.webelement.WebElement (session=\"7cb402d7fbbc47fb7f9f9bfdb95d722a\", element=\"5334a643-1793-4061-9085-2cba1bafe557\")>,\n",
       " <selenium.webdriver.remote.webelement.WebElement (session=\"7cb402d7fbbc47fb7f9f9bfdb95d722a\", element=\"f3bc04b0-e988-4e54-89df-59aaba50ee8a\")>,\n",
       " <selenium.webdriver.remote.webelement.WebElement (session=\"7cb402d7fbbc47fb7f9f9bfdb95d722a\", element=\"1a467808-63e5-436e-bf57-8bbfb8c6242a\")>,\n",
       " <selenium.webdriver.remote.webelement.WebElement (session=\"7cb402d7fbbc47fb7f9f9bfdb95d722a\", element=\"568e306c-fa76-4477-bdeb-5d9d26648123\")>,\n",
       " <selenium.webdriver.remote.webelement.WebElement (session=\"7cb402d7fbbc47fb7f9f9bfdb95d722a\", element=\"5ce34883-4abf-4b9e-b6bb-63de654dc3b9\")>,\n",
       " <selenium.webdriver.remote.webelement.WebElement (session=\"7cb402d7fbbc47fb7f9f9bfdb95d722a\", element=\"b730f0b9-6a44-45a7-bb74-2e4546bf6771\")>,\n",
       " <selenium.webdriver.remote.webelement.WebElement (session=\"7cb402d7fbbc47fb7f9f9bfdb95d722a\", element=\"afda186c-2bbf-4694-b79f-5de07989d357\")>,\n",
       " <selenium.webdriver.remote.webelement.WebElement (session=\"7cb402d7fbbc47fb7f9f9bfdb95d722a\", element=\"3d1f962c-16e7-4a02-81f1-b75732acb520\")>,\n",
       " <selenium.webdriver.remote.webelement.WebElement (session=\"7cb402d7fbbc47fb7f9f9bfdb95d722a\", element=\"dea4471a-c6c4-4e93-af3a-6b837bbfd3b3\")>,\n",
       " <selenium.webdriver.remote.webelement.WebElement (session=\"7cb402d7fbbc47fb7f9f9bfdb95d722a\", element=\"ad6e31e3-d8d3-440c-81ba-416c4a26549d\")>,\n",
       " <selenium.webdriver.remote.webelement.WebElement (session=\"7cb402d7fbbc47fb7f9f9bfdb95d722a\", element=\"5693eb3b-e996-4add-aa86-df34a61b028f\")>,\n",
       " <selenium.webdriver.remote.webelement.WebElement (session=\"7cb402d7fbbc47fb7f9f9bfdb95d722a\", element=\"f16d3572-d334-4581-a2cf-5359b6eebb63\")>,\n",
       " <selenium.webdriver.remote.webelement.WebElement (session=\"7cb402d7fbbc47fb7f9f9bfdb95d722a\", element=\"78402aaf-f462-4eed-9182-40dce46ada81\")>,\n",
       " <selenium.webdriver.remote.webelement.WebElement (session=\"7cb402d7fbbc47fb7f9f9bfdb95d722a\", element=\"3aace657-301e-4dd3-9d44-8df4e86ecfbd\")>]"
      ]
     },
     "execution_count": 142,
     "metadata": {},
     "output_type": "execute_result"
    }
   ],
   "source": [
    "cards[0].get"
   ]
  },
  {
   "cell_type": "code",
   "execution_count": 26,
   "id": "5128aae9",
   "metadata": {
    "ExecuteTime": {
     "end_time": "2021-09-10T14:49:37.897044Z",
     "start_time": "2021-09-10T14:49:37.890638Z"
    }
   },
   "outputs": [
    {
     "data": {
      "text/plain": [
       "<selenium.webdriver.remote.webelement.WebElement (session=\"74c56474d465ebfa39dfac3943ca9a84\", element=\"f69ec2d5-df02-415a-9e90-8e846d6db545\")>"
      ]
     },
     "execution_count": 26,
     "metadata": {},
     "output_type": "execute_result"
    }
   ],
   "source": [
    "cards.get"
   ]
  },
  {
   "cell_type": "code",
   "execution_count": null,
   "id": "8f48177c",
   "metadata": {},
   "outputs": [],
   "source": []
  }
 ],
 "metadata": {
  "kernelspec": {
   "display_name": "Python 3",
   "language": "python",
   "name": "python3"
  },
  "language_info": {
   "codemirror_mode": {
    "name": "ipython",
    "version": 3
   },
   "file_extension": ".py",
   "mimetype": "text/x-python",
   "name": "python",
   "nbconvert_exporter": "python",
   "pygments_lexer": "ipython3",
   "version": "3.8.6"
  },
  "toc": {
   "base_numbering": 1,
   "nav_menu": {},
   "number_sections": true,
   "sideBar": true,
   "skip_h1_title": false,
   "title_cell": "Table of Contents",
   "title_sidebar": "Contents",
   "toc_cell": false,
   "toc_position": {},
   "toc_section_display": true,
   "toc_window_display": false
  }
 },
 "nbformat": 4,
 "nbformat_minor": 5
}
